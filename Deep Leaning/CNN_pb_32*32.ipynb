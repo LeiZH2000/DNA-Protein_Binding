{
 "cells": [
  {
   "cell_type": "code",
   "execution_count": 1,
   "id": "65d3b524-1d5d-41a2-8824-1ea7abd1dc92",
   "metadata": {
    "tags": []
   },
   "outputs": [],
   "source": [
    "from Bio import SeqIO, motifs\n",
    "from Bio.Seq import Seq\n",
    "import pandas as pd\n",
    "import numpy as np\n",
    "import csv\n",
    "from Bio.SeqRecord import SeqRecord\n",
    "import torch\n",
    "import json\n",
    "from transformers import AutoTokenizer, AutoModel\n",
    "from sklearn.preprocessing import StandardScaler\n",
    "\n"
   ]
  },
  {
   "cell_type": "code",
   "execution_count": 3,
   "id": "d9e69119-2fd5-4496-9364-f9013a2eb200",
   "metadata": {
    "tags": []
   },
   "outputs": [],
   "source": [
    "import pandas as pd\n",
    "from tensorflow.keras.models import Sequential\n",
    "from tensorflow.keras.layers import Dense, Conv2D, Flatten, MaxPooling2D\n",
    "from tensorflow.keras.utils import to_categorical\n",
    "from tensorflow.keras.metrics import AUC\n",
    "from sklearn.metrics import precision_score, recall_score, f1_score, matthews_corrcoef, roc_auc_score\n",
    "import numpy as np\n",
    "from sklearn.decomposition import PCA"
   ]
  },
  {
   "cell_type": "code",
   "execution_count": 4,
   "id": "a08f0943-4dd7-44b1-91bc-dad667da9dcd",
   "metadata": {
    "tags": []
   },
   "outputs": [],
   "source": [
    "def scale_data(train_data, test_data):\n",
    "    scaler = StandardScaler()\n",
    "    scaled_train_data = scaler.fit_transform(train_data)\n",
    "    scaled_test_data = scaler.transform(test_data)\n",
    "    return pd.DataFrame(scaled_train_data, columns=train_data.columns), pd.DataFrame(scaled_test_data, columns=test_data.columns)"
   ]
  },
  {
   "cell_type": "code",
   "execution_count": null,
   "id": "365a6c4b-556a-45f2-85f1-49c7e79ac86a",
   "metadata": {
    "tags": []
   },
   "outputs": [],
   "source": [
    "training_data = pd.read_csv(\"df_train_feature_pb.csv\", index_col=0)\n",
    "testing_data = pd.read_csv(\"df_test_feature_pb.csv\", index_col=0)"
   ]
  },
  {
   "cell_type": "code",
   "execution_count": 4,
   "id": "7beeb868-57b5-4881-a2b7-05683983f66d",
   "metadata": {
    "tags": []
   },
   "outputs": [],
   "source": [
    "# Separate features and labels\n",
    "X_train_data = training_data.drop('Label', axis=1)\n",
    "y_train_data = training_data['Label']\n",
    "X_test_data = testing_data.drop('Label', axis=1)\n",
    "y_test_data = testing_data['Label']"
   ]
  },
  {
   "cell_type": "code",
   "execution_count": 5,
   "id": "af9cd6c3-1c9e-4e03-abb2-57c751476262",
   "metadata": {
    "tags": []
   },
   "outputs": [],
   "source": [
    "#scaled_X_train, scaled_X_test = scale_data(X_train_data, X_test_data)"
   ]
  },
  {
   "cell_type": "code",
   "execution_count": 6,
   "id": "a174e02b-62fd-4c94-abc2-16320df01cbd",
   "metadata": {
    "tags": []
   },
   "outputs": [
    {
     "name": "stderr",
     "output_type": "stream",
     "text": [
      "2024-01-26 13:45:56.105877: I tensorflow/core/util/port.cc:113] oneDNN custom operations are on. You may see slightly different numerical results due to floating-point round-off errors from different computation orders. To turn them off, set the environment variable `TF_ENABLE_ONEDNN_OPTS=0`.\n",
      "2024-01-26 13:45:56.107818: I external/local_tsl/tsl/cuda/cudart_stub.cc:31] Could not find cuda drivers on your machine, GPU will not be used.\n",
      "2024-01-26 13:45:56.132608: E external/local_xla/xla/stream_executor/cuda/cuda_dnn.cc:9261] Unable to register cuDNN factory: Attempting to register factory for plugin cuDNN when one has already been registered\n",
      "2024-01-26 13:45:56.132626: E external/local_xla/xla/stream_executor/cuda/cuda_fft.cc:607] Unable to register cuFFT factory: Attempting to register factory for plugin cuFFT when one has already been registered\n",
      "2024-01-26 13:45:56.133437: E external/local_xla/xla/stream_executor/cuda/cuda_blas.cc:1515] Unable to register cuBLAS factory: Attempting to register factory for plugin cuBLAS when one has already been registered\n",
      "2024-01-26 13:45:56.137627: I external/local_tsl/tsl/cuda/cudart_stub.cc:31] Could not find cuda drivers on your machine, GPU will not be used.\n",
      "2024-01-26 13:45:56.138341: I tensorflow/core/platform/cpu_feature_guard.cc:182] This TensorFlow binary is optimized to use available CPU instructions in performance-critical operations.\n",
      "To enable the following instructions: AVX2 AVX512F AVX512_VNNI FMA, in other operations, rebuild TensorFlow with the appropriate compiler flags.\n",
      "2024-01-26 13:45:56.803159: W tensorflow/compiler/tf2tensorrt/utils/py_utils.cc:38] TF-TRT Warning: Could not find TensorRT\n"
     ]
    }
   ],
   "source": [
    "from tensorflow.keras.models import Sequential\n",
    "from tensorflow.keras.layers import Dense, Conv2D, Flatten, MaxPooling2D\n",
    "from tensorflow.keras.utils import to_categorical\n",
    "from tensorflow.keras.metrics import AUC\n",
    "from sklearn.metrics import precision_score, recall_score, f1_score, matthews_corrcoef, roc_auc_score\n",
    "import numpy as np"
   ]
  },
  {
   "cell_type": "code",
   "execution_count": 7,
   "id": "eb19083b-6ada-46a9-b5ce-f11490071ac9",
   "metadata": {
    "tags": []
   },
   "outputs": [],
   "source": [
    "from sklearn.decomposition import PCA\n",
    "\n",
    "# Define the number of features you want after dimensionality reduction\n",
    "n_components = 32 * 32\n",
    "\n",
    "pca = PCA(n_components=n_components)\n",
    "\n",
    "X_train_ini = training_data.drop('Label', axis=1).values\n",
    "X_train_pca = pca.fit_transform(X_train_ini)  # Apply PCA to training data\n",
    "\n",
    "X_test_ini = testing_data.drop('Label', axis=1).values\n",
    "X_test_pca = pca.transform(X_test_ini)  # Apply PCA to testing data\n",
    "\n",
    "X_train = X_train_pca.reshape(-1, 32, 32, 1)\n",
    "y_train = to_categorical(training_data['Label'].values, num_classes=2)\n",
    "\n",
    "X_test = X_test_pca.reshape(-1, 32, 32, 1)\n",
    "y_test = to_categorical(testing_data['Label'].values, num_classes=2)"
   ]
  },
  {
   "cell_type": "code",
   "execution_count": 16,
   "id": "bba87b0c-8e6d-4114-ba84-e4a4b854a4b7",
   "metadata": {
    "tags": []
   },
   "outputs": [
    {
     "data": {
      "text/plain": [
       "2518"
      ]
     },
     "execution_count": 16,
     "metadata": {},
     "output_type": "execute_result"
    }
   ],
   "source": [
    "len(X_train)"
   ]
  },
  {
   "cell_type": "code",
   "execution_count": 17,
   "id": "488081fa-56b9-4134-a4f8-f51dcfd17387",
   "metadata": {
    "tags": []
   },
   "outputs": [
    {
     "data": {
      "text/plain": [
       "32"
      ]
     },
     "execution_count": 17,
     "metadata": {},
     "output_type": "execute_result"
    }
   ],
   "source": [
    "len(X_train[0])"
   ]
  },
  {
   "cell_type": "code",
   "execution_count": 20,
   "id": "f523e2cd-b535-44e1-9765-efb7b4c005ed",
   "metadata": {
    "tags": []
   },
   "outputs": [
    {
     "name": "stdout",
     "output_type": "stream",
     "text": [
      "Epoch 1/50\n",
      "79/79 [==============================] - 1s 10ms/step - loss: 0.6433 - accuracy: 0.6311 - val_loss: 0.5733 - val_accuracy: 0.7365\n",
      "Epoch 2/50\n",
      "79/79 [==============================] - 1s 10ms/step - loss: 0.5688 - accuracy: 0.7073 - val_loss: 0.5345 - val_accuracy: 0.7556\n",
      "Epoch 3/50\n",
      "79/79 [==============================] - 1s 10ms/step - loss: 0.5391 - accuracy: 0.7315 - val_loss: 0.5244 - val_accuracy: 0.7714\n",
      "Epoch 4/50\n",
      "79/79 [==============================] - 1s 10ms/step - loss: 0.5180 - accuracy: 0.7423 - val_loss: 0.5966 - val_accuracy: 0.7413\n",
      "Epoch 5/50\n",
      "79/79 [==============================] - 1s 10ms/step - loss: 0.5120 - accuracy: 0.7411 - val_loss: 0.5034 - val_accuracy: 0.7778\n",
      "Epoch 6/50\n",
      "79/79 [==============================] - 1s 10ms/step - loss: 0.4892 - accuracy: 0.7665 - val_loss: 0.5106 - val_accuracy: 0.7746\n",
      "Epoch 7/50\n",
      "79/79 [==============================] - 1s 10ms/step - loss: 0.4891 - accuracy: 0.7585 - val_loss: 0.5256 - val_accuracy: 0.7635\n",
      "Epoch 8/50\n",
      "79/79 [==============================] - 1s 9ms/step - loss: 0.4697 - accuracy: 0.7776 - val_loss: 0.5262 - val_accuracy: 0.7397\n",
      "Epoch 9/50\n",
      "79/79 [==============================] - 1s 10ms/step - loss: 0.4666 - accuracy: 0.7685 - val_loss: 0.5199 - val_accuracy: 0.7778\n",
      "Epoch 10/50\n",
      "79/79 [==============================] - 1s 10ms/step - loss: 0.4589 - accuracy: 0.7804 - val_loss: 0.5548 - val_accuracy: 0.7635\n",
      "Epoch 11/50\n",
      "79/79 [==============================] - 1s 10ms/step - loss: 0.4530 - accuracy: 0.7824 - val_loss: 0.5736 - val_accuracy: 0.7635\n",
      "Epoch 12/50\n",
      "79/79 [==============================] - 1s 10ms/step - loss: 0.4381 - accuracy: 0.7927 - val_loss: 0.5825 - val_accuracy: 0.7619\n",
      "Epoch 13/50\n",
      "79/79 [==============================] - 1s 10ms/step - loss: 0.4395 - accuracy: 0.7867 - val_loss: 0.6373 - val_accuracy: 0.7270\n",
      "Epoch 14/50\n",
      "79/79 [==============================] - 1s 10ms/step - loss: 0.4347 - accuracy: 0.7919 - val_loss: 0.5565 - val_accuracy: 0.7746\n",
      "Epoch 15/50\n",
      "79/79 [==============================] - 1s 10ms/step - loss: 0.4193 - accuracy: 0.8006 - val_loss: 0.5454 - val_accuracy: 0.7683\n",
      "Epoch 16/50\n",
      "79/79 [==============================] - 1s 9ms/step - loss: 0.4069 - accuracy: 0.8114 - val_loss: 0.5869 - val_accuracy: 0.7651\n",
      "Epoch 17/50\n",
      "79/79 [==============================] - 1s 10ms/step - loss: 0.4079 - accuracy: 0.8098 - val_loss: 0.5680 - val_accuracy: 0.7651\n",
      "Epoch 18/50\n",
      "79/79 [==============================] - 1s 10ms/step - loss: 0.3969 - accuracy: 0.8141 - val_loss: 0.5390 - val_accuracy: 0.7667\n",
      "Epoch 19/50\n",
      "79/79 [==============================] - 1s 10ms/step - loss: 0.3812 - accuracy: 0.8253 - val_loss: 0.5813 - val_accuracy: 0.7587\n",
      "Epoch 20/50\n",
      "79/79 [==============================] - 1s 10ms/step - loss: 0.3833 - accuracy: 0.8328 - val_loss: 0.5862 - val_accuracy: 0.7873\n",
      "Epoch 21/50\n",
      "79/79 [==============================] - 1s 10ms/step - loss: 0.3708 - accuracy: 0.8280 - val_loss: 0.5799 - val_accuracy: 0.7667\n",
      "Epoch 22/50\n",
      "79/79 [==============================] - 1s 10ms/step - loss: 0.3454 - accuracy: 0.8471 - val_loss: 0.7151 - val_accuracy: 0.7333\n",
      "Epoch 23/50\n",
      "79/79 [==============================] - 1s 10ms/step - loss: 0.3482 - accuracy: 0.8423 - val_loss: 0.6654 - val_accuracy: 0.7476\n",
      "Epoch 24/50\n",
      "79/79 [==============================] - 1s 8ms/step - loss: 0.3280 - accuracy: 0.8523 - val_loss: 0.6559 - val_accuracy: 0.7508\n",
      "Epoch 25/50\n",
      "79/79 [==============================] - 1s 8ms/step - loss: 0.3123 - accuracy: 0.8618 - val_loss: 0.7274 - val_accuracy: 0.7444\n",
      "Epoch 26/50\n",
      "79/79 [==============================] - 1s 9ms/step - loss: 0.3086 - accuracy: 0.8646 - val_loss: 0.7548 - val_accuracy: 0.7286\n",
      "Epoch 27/50\n",
      "79/79 [==============================] - 1s 10ms/step - loss: 0.2842 - accuracy: 0.8773 - val_loss: 0.6356 - val_accuracy: 0.7730\n",
      "Epoch 28/50\n",
      "79/79 [==============================] - 1s 10ms/step - loss: 0.2808 - accuracy: 0.8828 - val_loss: 0.7930 - val_accuracy: 0.7492\n",
      "Epoch 29/50\n",
      "79/79 [==============================] - 1s 10ms/step - loss: 0.2611 - accuracy: 0.8880 - val_loss: 0.7614 - val_accuracy: 0.7460\n",
      "Epoch 30/50\n",
      "79/79 [==============================] - 1s 10ms/step - loss: 0.2526 - accuracy: 0.8940 - val_loss: 0.7870 - val_accuracy: 0.7619\n",
      "Epoch 31/50\n",
      "79/79 [==============================] - 1s 10ms/step - loss: 0.2452 - accuracy: 0.9007 - val_loss: 0.8931 - val_accuracy: 0.7333\n",
      "Epoch 32/50\n",
      "79/79 [==============================] - 1s 10ms/step - loss: 0.2147 - accuracy: 0.9186 - val_loss: 0.9371 - val_accuracy: 0.7508\n",
      "Epoch 33/50\n",
      "79/79 [==============================] - 1s 10ms/step - loss: 0.1927 - accuracy: 0.9245 - val_loss: 0.8994 - val_accuracy: 0.7413\n",
      "Epoch 34/50\n",
      "79/79 [==============================] - 1s 10ms/step - loss: 0.1866 - accuracy: 0.9249 - val_loss: 0.9142 - val_accuracy: 0.7476\n",
      "Epoch 35/50\n",
      "79/79 [==============================] - 1s 10ms/step - loss: 0.1776 - accuracy: 0.9273 - val_loss: 0.9052 - val_accuracy: 0.7508\n",
      "Epoch 36/50\n",
      "79/79 [==============================] - 1s 10ms/step - loss: 0.1527 - accuracy: 0.9420 - val_loss: 1.0273 - val_accuracy: 0.7508\n",
      "Epoch 37/50\n",
      "79/79 [==============================] - 1s 10ms/step - loss: 0.1458 - accuracy: 0.9444 - val_loss: 1.2169 - val_accuracy: 0.7206\n",
      "Epoch 38/50\n",
      "79/79 [==============================] - 1s 10ms/step - loss: 0.1286 - accuracy: 0.9523 - val_loss: 1.1944 - val_accuracy: 0.7349\n",
      "Epoch 39/50\n",
      "79/79 [==============================] - 1s 10ms/step - loss: 0.1221 - accuracy: 0.9591 - val_loss: 1.1754 - val_accuracy: 0.7397\n",
      "Epoch 40/50\n",
      "79/79 [==============================] - 1s 10ms/step - loss: 0.1154 - accuracy: 0.9611 - val_loss: 1.2482 - val_accuracy: 0.7365\n",
      "Epoch 41/50\n",
      "79/79 [==============================] - 1s 10ms/step - loss: 0.0924 - accuracy: 0.9694 - val_loss: 1.2854 - val_accuracy: 0.7492\n",
      "Epoch 42/50\n",
      "79/79 [==============================] - 1s 10ms/step - loss: 0.0686 - accuracy: 0.9849 - val_loss: 1.3399 - val_accuracy: 0.7476\n",
      "Epoch 43/50\n",
      "79/79 [==============================] - 1s 10ms/step - loss: 0.0629 - accuracy: 0.9853 - val_loss: 1.5120 - val_accuracy: 0.7365\n",
      "Epoch 44/50\n",
      "79/79 [==============================] - 1s 10ms/step - loss: 0.0684 - accuracy: 0.9813 - val_loss: 1.3570 - val_accuracy: 0.7492\n",
      "Epoch 45/50\n",
      "79/79 [==============================] - 1s 10ms/step - loss: 0.0466 - accuracy: 0.9917 - val_loss: 1.5570 - val_accuracy: 0.7460\n",
      "Epoch 46/50\n",
      "79/79 [==============================] - 1s 10ms/step - loss: 0.0389 - accuracy: 0.9932 - val_loss: 1.6500 - val_accuracy: 0.7381\n",
      "Epoch 47/50\n",
      "79/79 [==============================] - 1s 10ms/step - loss: 0.0356 - accuracy: 0.9952 - val_loss: 1.6382 - val_accuracy: 0.7429\n",
      "Epoch 48/50\n",
      "79/79 [==============================] - 1s 10ms/step - loss: 0.0535 - accuracy: 0.9833 - val_loss: 1.7994 - val_accuracy: 0.7349\n",
      "Epoch 49/50\n",
      "79/79 [==============================] - 1s 10ms/step - loss: 0.1315 - accuracy: 0.9500 - val_loss: 2.0699 - val_accuracy: 0.7048\n",
      "Epoch 50/50\n",
      "79/79 [==============================] - 1s 10ms/step - loss: 0.1115 - accuracy: 0.9539 - val_loss: 1.5848 - val_accuracy: 0.7603\n"
     ]
    },
    {
     "data": {
      "text/plain": [
       "<keras.src.callbacks.History at 0x7fa0744bb940>"
      ]
     },
     "execution_count": 20,
     "metadata": {},
     "output_type": "execute_result"
    }
   ],
   "source": [
    "# 32*32\n",
    "model = Sequential()\n",
    "model.add(Conv2D(32, kernel_size=3, input_shape=(32, 32, 1)))\n",
    "model.add(MaxPooling2D(pool_size=2))\n",
    "model.add(Conv2D(64, kernel_size=3))\n",
    "model.add(MaxPooling2D(pool_size=2))\n",
    "model.add(Conv2D(128, kernel_size=3))\n",
    "model.add(Flatten())\n",
    "model.add(Dense(2, activation='sigmoid')) \n",
    "\n",
    "model.compile(optimizer='adam', loss='binary_crossentropy', metrics=['accuracy'])\n",
    "\n",
    "model.fit(X_train, y_train, validation_data=(X_test, y_test), epochs=50)\n"
   ]
  },
  {
   "cell_type": "code",
   "execution_count": 21,
   "id": "67b30494-1fa5-478c-b86e-b1746514047d",
   "metadata": {},
   "outputs": [
    {
     "name": "stdout",
     "output_type": "stream",
     "text": [
      "20/20 [==============================] - 0s 3ms/step\n",
      "Accuracy: 0.7603174603174603\n",
      "Precision: 0.731638418079096\n",
      "Recall: 0.8222222222222222\n",
      "F1-Score: 0.7742899850523169\n",
      "Matthews Correlation Coefficient: 0.5246717439281506\n",
      "AUC: 0.8261224489795919\n"
     ]
    }
   ],
   "source": [
    "y_pred = model.predict(X_test)\n",
    "y_pred_classes = np.argmax(y_pred, axis=1)\n",
    "y_true = np.argmax(y_test, axis=1)\n",
    "\n",
    "accuracy = np.mean(y_pred_classes == y_true)\n",
    "precision = precision_score(y_true, y_pred_classes)\n",
    "recall = recall_score(y_true, y_pred_classes)\n",
    "f1 = f1_score(y_true, y_pred_classes)\n",
    "mcc = matthews_corrcoef(y_true, y_pred_classes)\n",
    "auc = roc_auc_score(y_test, y_pred)\n",
    "\n",
    "print(f'Accuracy: {accuracy}')\n",
    "print(f'Precision: {precision}')\n",
    "print(f'Recall: {recall}')\n",
    "print(f'F1-Score: {f1}')\n",
    "print(f'Matthews Correlation Coefficient: {mcc}')\n",
    "print(f'AUC: {auc}')\n"
   ]
  },
  {
   "cell_type": "code",
   "execution_count": null,
   "id": "ae4d69b4-9ec4-4e3e-b4fd-e10d832f4011",
   "metadata": {},
   "outputs": [],
   "source": []
  }
 ],
 "metadata": {
  "kernelspec": {
   "display_name": "Python 3 (ipykernel)",
   "language": "python",
   "name": "python3"
  },
  "language_info": {
   "codemirror_mode": {
    "name": "ipython",
    "version": 3
   },
   "file_extension": ".py",
   "mimetype": "text/x-python",
   "name": "python",
   "nbconvert_exporter": "python",
   "pygments_lexer": "ipython3",
   "version": "3.10.12"
  }
 },
 "nbformat": 4,
 "nbformat_minor": 5
}
