{
 "cells": [
  {
   "cell_type": "code",
   "execution_count": 54,
   "id": "e3d1b56b-404e-46d8-8601-592792361e57",
   "metadata": {
    "tags": []
   },
   "outputs": [],
   "source": [
    "import pandas as pd\n",
    "from sklearn.preprocessing import StandardScaler\n",
    "from sklearn.model_selection import train_test_split\n",
    "from tensorflow.keras.models import Sequential\n",
    "from tensorflow.keras.layers import LSTM, Dropout, Dense\n",
    "from tensorflow.keras.utils import to_categorical\n",
    "from sklearn.preprocessing import LabelEncoder\n",
    "import warnings\n",
    "warnings.filterwarnings('ignore')"
   ]
  },
  {
   "cell_type": "code",
   "execution_count": 50,
   "id": "e806c883-bfa2-40f8-879c-f2e70692f1d2",
   "metadata": {
    "tags": []
   },
   "outputs": [],
   "source": [
    "def preprocess(data):\n",
    "    X = data.drop('Label', axis=1)\n",
    "    y = data['Label']\n",
    "\n",
    "    encoder = LabelEncoder()\n",
    "    y_encoded = encoder.fit_transform(y)\n",
    "    y_categorical = to_categorical(y_encoded)\n",
    "    \n",
    "    scaler = StandardScaler()\n",
    "    X_scaled = scaler.fit_transform(X)\n",
    "    \n",
    "    X_scaled = X_scaled.reshape(X_scaled.shape[0], X_scaled.shape[1], 1)\n",
    "    \n",
    "    return X_scaled, y_categorical"
   ]
  },
  {
   "cell_type": "code",
   "execution_count": 51,
   "id": "c2f62296-660d-4a5e-a58a-d24d13fbd247",
   "metadata": {
    "tags": []
   },
   "outputs": [],
   "source": [
    "def build_model(input_shape, num_classes):\n",
    "    model = Sequential([\n",
    "        LSTM(50, input_shape=input_shape, return_sequences=True),\n",
    "        Dropout(0.2),\n",
    "        LSTM(50),\n",
    "        Dropout(0.2),\n",
    "        Dense(num_classes, activation='softmax')\n",
    "    ])\n",
    "    \n",
    "    model.compile(optimizer='adam', loss='categorical_crossentropy', metrics=['accuracy'])\n",
    "    return model"
   ]
  },
  {
   "cell_type": "code",
   "execution_count": null,
   "id": "c727b102-0256-49fb-a015-2564eedd14f4",
   "metadata": {},
   "outputs": [],
   "source": [
    "import pandas as pd\n",
    "from sklearn.preprocessing import StandardScaler\n",
    "from sklearn.model_selection import train_test_split\n",
    "from tensorflow.keras.models import Sequential\n",
    "from tensorflow.keras.layers import LSTM, Dropout, Dense\n",
    "from tensorflow.keras.utils import to_categorical\n",
    "from sklearn.preprocessing import LabelEncoder\n",
    "import warnings\n",
    "warnings.filterwarnings('ignore')\n",
    "\n",
    "def preprocess(data):\n",
    "    X = data.drop('Label', axis=1)\n",
    "    y = data['Label']\n",
    "    \n",
    "    encoder = LabelEncoder()\n",
    "    y_encoded = encoder.fit_transform(y)\n",
    "    y_categorical = to_categorical(y_encoded)\n",
    "    \n",
    "    scaler = StandardScaler()\n",
    "    X_scaled = scaler.fit_transform(X)\n",
    "    \n",
    "    X_scaled = X_scaled.reshape(X_scaled.shape[0], X_scaled.shape[1], 1)\n",
    "    \n",
    "    return X_scaled, y_categorical\n",
    "\n",
    "def build_model(input_shape, num_classes):\n",
    "    model = Sequential([\n",
    "        LSTM(50, input_shape=input_shape, return_sequences=True),\n",
    "        Dropout(0.2),\n",
    "        LSTM(50),\n",
    "        Dropout(0.2),\n",
    "        Dense(num_classes, activation='softmax')\n",
    "    ])\n",
    "    \n",
    "    model.compile(optimizer='adam', loss='categorical_crossentropy', metrics=['accuracy'])\n",
    "    return model\n",
    "\n",
    "train_data = pd.read_csv('train_features_withPBDeepFRI.csv',index_col=0)\n",
    "test_data = pd.read_csv('test_features_withPBDeepFRI.csv',index_col=0)\n",
    "\n",
    "X_train, y_train = preprocess(train_data)\n",
    "X_test, y_test = preprocess(test_data)\n",
    "\n",
    "input_shape = (X_train.shape[1], X_train.shape[2])\n",
    "num_classes = y_train.shape[1]\n",
    "\n",
    "model = build_model(input_shape, num_classes)\n",
    "\n",
    "model.fit(X_train, y_train, epochs=10, batch_size=32, validation_data=(X_test, y_test))\n",
    "loss, accuracy = model.evaluate(X_test, y_test)\n",
    "print(f\"Test loss: {loss}, Test accuracy: {accuracy}\")"
   ]
  },
  {
   "cell_type": "code",
   "execution_count": 55,
   "id": "860a8aca-fd35-407c-a6a3-1d3a36082e07",
   "metadata": {
    "tags": []
   },
   "outputs": [],
   "source": [
    "train_data = pd.read_csv('train_features_withPBDeepFRI.csv',index_col=0)\n",
    "test_data = pd.read_csv('test_features_withPBDeepFRI.csv',index_col=0)"
   ]
  },
  {
   "cell_type": "code",
   "execution_count": 56,
   "id": "153c2887-5628-41d3-8b1d-661b7539e144",
   "metadata": {
    "tags": []
   },
   "outputs": [],
   "source": [
    "X_train, y_train = preprocess(train_data)\n",
    "X_test, y_test = preprocess(test_data)"
   ]
  },
  {
   "cell_type": "code",
   "execution_count": 57,
   "id": "ab4ab1ed-57ca-4514-99c8-ed9b222e8343",
   "metadata": {
    "tags": []
   },
   "outputs": [],
   "source": [
    "input_shape = (X_train.shape[1], X_train.shape[2])  # LSTM需要三维输入\n",
    "num_classes = y_train.shape[1]"
   ]
  },
  {
   "cell_type": "code",
   "execution_count": 58,
   "id": "5f072539-2fb0-4e7c-98ce-b6966ee74e2e",
   "metadata": {
    "tags": []
   },
   "outputs": [],
   "source": [
    "model = build_model(input_shape, num_classes)"
   ]
  },
  {
   "cell_type": "code",
   "execution_count": 59,
   "id": "c8c9bb78-51f5-4b60-b453-f63098a95608",
   "metadata": {
    "tags": []
   },
   "outputs": [
    {
     "name": "stdout",
     "output_type": "stream",
     "text": [
      "Epoch 1/10\n",
      "79/79 [==============================] - 210s 3s/step - loss: 0.6691 - accuracy: 0.6080 - val_loss: 0.6566 - val_accuracy: 0.6175\n",
      "Epoch 2/10\n",
      "79/79 [==============================] - 207s 3s/step - loss: 0.6379 - accuracy: 0.6454 - val_loss: 0.6485 - val_accuracy: 0.6206\n",
      "Epoch 3/10\n",
      "79/79 [==============================] - 207s 3s/step - loss: 0.6346 - accuracy: 0.6517 - val_loss: 0.6680 - val_accuracy: 0.5937\n",
      "Epoch 4/10\n",
      "79/79 [==============================] - 207s 3s/step - loss: 0.6339 - accuracy: 0.6620 - val_loss: 0.6495 - val_accuracy: 0.6397\n",
      "Epoch 5/10\n",
      "79/79 [==============================] - 207s 3s/step - loss: 0.6368 - accuracy: 0.6477 - val_loss: 0.6776 - val_accuracy: 0.5698\n",
      "Epoch 6/10\n",
      "75/79 [===========================>..] - ETA: 9s - loss: 0.6346 - accuracy: 0.6471 "
     ]
    },
    {
     "name": "stderr",
     "output_type": "stream",
     "text": [
      "\n",
      "KeyboardInterrupt\n",
      "\n"
     ]
    }
   ],
   "source": [
    "model.fit(X_train, y_train, epochs=10, batch_size=32, validation_data=(X_test, y_test))"
   ]
  },
  {
   "cell_type": "code",
   "execution_count": null,
   "id": "9a524933-34a8-4c67-8860-4eeaebc0452f",
   "metadata": {},
   "outputs": [],
   "source": [
    "\n",
    "\n"
   ]
  }
 ],
 "metadata": {
  "kernelspec": {
   "display_name": "Python 3 (ipykernel)",
   "language": "python",
   "name": "python3"
  },
  "language_info": {
   "codemirror_mode": {
    "name": "ipython",
    "version": 3
   },
   "file_extension": ".py",
   "mimetype": "text/x-python",
   "name": "python",
   "nbconvert_exporter": "python",
   "pygments_lexer": "ipython3",
   "version": "3.10.12"
  }
 },
 "nbformat": 4,
 "nbformat_minor": 5
}
