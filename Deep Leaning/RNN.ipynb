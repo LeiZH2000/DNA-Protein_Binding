{
 "cells": [
  {
   "cell_type": "code",
   "execution_count": 75,
   "id": "40f790fd-c3f7-4dea-bf9f-03328f782db4",
   "metadata": {
    "tags": []
   },
   "outputs": [],
   "source": [
    "import numpy as np\n",
    "import tensorflow as tf\n",
    "from tensorflow.keras.models import Sequential\n",
    "from tensorflow.keras.layers import SimpleRNN, Dense, Dropout\n",
    "from tensorflow.keras.optimizers import Adam\n",
    "from tensorflow.keras.callbacks import EarlyStopping\n",
    "from sklearn.model_selection import train_test_split\n",
    "from sklearn.preprocessing import StandardScaler\n",
    "\n",
    "\n",
    "train_data = pd.read_csv('train_features_withPBDeepFRI.csv',index_col=0)\n",
    "test_data = pd.read_csv('test_features_withPBDeepFRI.csv',index_col=0)\n",
    "\n",
    "X_train = train_data.drop('Label',axis = 1).to_numpy()\n",
    "X_test = test_data.drop('Label',axis = 1).to_numpy()\n",
    "y_train = train_data['Label']\n",
    "y_test = test_data['Label']"
   ]
  },
  {
   "cell_type": "code",
   "execution_count": 76,
   "id": "31962ecf-eda9-4cb6-b589-7599491d83a5",
   "metadata": {
    "tags": []
   },
   "outputs": [],
   "source": [
    "num_timesteps = 1\n",
    "scaler = StandardScaler()\n",
    "X_train_reshaped = X_train.reshape(-1, num_features)\n",
    "X_test_reshaped = X_test.reshape(-1, num_features)\n",
    "\n",
    "X_train_scaled = scaler.fit_transform(X_train_reshaped).reshape(2518, num_timesteps, num_features)\n",
    "X_test_scaled = scaler.transform(X_test_reshaped).reshape(630, num_timesteps, num_features)"
   ]
  },
  {
   "cell_type": "code",
   "execution_count": 84,
   "id": "2e5139bd-e4fa-4ef5-93a1-ff57fc084241",
   "metadata": {
    "tags": []
   },
   "outputs": [],
   "source": [
    "model = Sequential()\n",
    "model.add(SimpleRNN(units=128, input_shape=(num_timesteps, num_features), return_sequences=True))\n",
    "model.add(Dropout(0.2))\n",
    "model.add(SimpleRNN(units=64, return_sequences=True))\n",
    "model.add(Dropout(0.2))\n",
    "model.add(SimpleRNN(units=32))\n",
    "model.add(Dropout(0.2))\n",
    "model.add(Dense(units=1, activation='sigmoid'))"
   ]
  },
  {
   "cell_type": "code",
   "execution_count": 94,
   "id": "52f8611d-425b-4864-81d6-3b877cdab118",
   "metadata": {
    "tags": []
   },
   "outputs": [],
   "source": [
    "early_stopping = EarlyStopping(\n",
    "    monitor='val_loss',    # Monitor the validation loss\n",
    "    patience=10,            # Number of epochs with no improvement after which training will be stopped\n",
    "    restore_best_weights=True  # Restore model weights from the epoch with the best value of the monitored quantity\n",
    ")"
   ]
  },
  {
   "cell_type": "code",
   "execution_count": 100,
   "id": "97deed8b-938c-448b-9c98-a54b7333cd3b",
   "metadata": {
    "tags": []
   },
   "outputs": [],
   "source": [
    "# Compile the model\n",
    "model.compile(optimizer=Adam(), loss='binary_crossentropy', metrics=['accuracy'])"
   ]
  },
  {
   "cell_type": "code",
   "execution_count": 101,
   "id": "52dbc5b6-e372-48d3-a4a1-195effc1c5f1",
   "metadata": {
    "tags": []
   },
   "outputs": [
    {
     "name": "stdout",
     "output_type": "stream",
     "text": [
      "Epoch 1/50\n",
      "71/71 [==============================] - 2s 10ms/step - loss: 0.4218 - accuracy: 0.8248 - val_loss: 0.3693 - val_accuracy: 0.8452\n",
      "Epoch 2/50\n",
      "71/71 [==============================] - 0s 6ms/step - loss: 0.4029 - accuracy: 0.8279 - val_loss: 0.3783 - val_accuracy: 0.8492\n",
      "Epoch 3/50\n",
      "71/71 [==============================] - 1s 7ms/step - loss: 0.3900 - accuracy: 0.8354 - val_loss: 0.4451 - val_accuracy: 0.8175\n",
      "Epoch 4/50\n",
      "71/71 [==============================] - 1s 7ms/step - loss: 0.3958 - accuracy: 0.8319 - val_loss: 0.4345 - val_accuracy: 0.8413\n",
      "Epoch 5/50\n",
      "71/71 [==============================] - 1s 8ms/step - loss: 0.3777 - accuracy: 0.8425 - val_loss: 0.4501 - val_accuracy: 0.8175\n",
      "Epoch 6/50\n",
      "71/71 [==============================] - 1s 8ms/step - loss: 0.3696 - accuracy: 0.8473 - val_loss: 0.4558 - val_accuracy: 0.7976\n",
      "Epoch 7/50\n",
      "71/71 [==============================] - 1s 8ms/step - loss: 0.4134 - accuracy: 0.8164 - val_loss: 0.4401 - val_accuracy: 0.8016\n",
      "Epoch 8/50\n",
      "71/71 [==============================] - 1s 7ms/step - loss: 0.3897 - accuracy: 0.8345 - val_loss: 0.4656 - val_accuracy: 0.7976\n",
      "Epoch 9/50\n",
      "71/71 [==============================] - 1s 7ms/step - loss: 0.3615 - accuracy: 0.8513 - val_loss: 0.4607 - val_accuracy: 0.8056\n",
      "Epoch 10/50\n",
      "71/71 [==============================] - 1s 7ms/step - loss: 0.3535 - accuracy: 0.8491 - val_loss: 0.4371 - val_accuracy: 0.8214\n",
      "Epoch 11/50\n",
      "71/71 [==============================] - 1s 8ms/step - loss: 0.3677 - accuracy: 0.8469 - val_loss: 0.4436 - val_accuracy: 0.8175\n"
     ]
    }
   ],
   "source": [
    "# Train the model\n",
    "history = model.fit(X_train_scaled, y_train, epochs=50, batch_size=32,\n",
    "                    validation_split=0.1, callbacks=[early_stopping])"
   ]
  },
  {
   "cell_type": "code",
   "execution_count": 102,
   "id": "2a7ae56f-5bf2-4ae7-b689-1f5fb0ec4f4d",
   "metadata": {
    "tags": []
   },
   "outputs": [
    {
     "name": "stdout",
     "output_type": "stream",
     "text": [
      "20/20 [==============================] - 0s 3ms/step - loss: 0.4269 - accuracy: 0.8175\n",
      "Test Accuracy: 0.8175\n"
     ]
    }
   ],
   "source": [
    "# Evaluate the model on the test set\n",
    "test_loss, test_accuracy = model.evaluate(X_test_scaled, y_test)\n",
    "\n",
    "print(f\"Test Accuracy: {test_accuracy:.4f}\")\n"
   ]
  },
  {
   "cell_type": "code",
   "execution_count": 103,
   "id": "946cdae3-9e6f-4220-8307-60b96fe2b420",
   "metadata": {
    "tags": []
   },
   "outputs": [
    {
     "name": "stdout",
     "output_type": "stream",
     "text": [
      "20/20 [==============================] - 0s 2ms/step\n",
      "Accuracy: 0.8175\n",
      "Precision: 0.7660\n",
      "Recall: 0.9143\n",
      "F1-Score: 0.8336\n",
      "Matthews Correlation Coefficient: 0.6472\n",
      "AUC: 0.9093\n"
     ]
    }
   ],
   "source": [
    "from sklearn.metrics import accuracy_score, precision_score, recall_score, f1_score, matthews_corrcoef, roc_auc_score\n",
    "\n",
    "# Assuming your model's predictions are probabilities and you want to binarize them with a threshold of 0.5\n",
    "y_pred_prob = model.predict(X_test_scaled)\n",
    "y_pred = (y_pred_prob > 0.5).astype(int)\n",
    "\n",
    "# Calculate metrics\n",
    "accuracy = accuracy_score(y_test, y_pred)\n",
    "precision = precision_score(y_test, y_pred)\n",
    "recall = recall_score(y_test, y_pred)\n",
    "f1 = f1_score(y_test, y_pred)\n",
    "mcc = matthews_corrcoef(y_test, y_pred)\n",
    "auc = roc_auc_score(y_test, y_pred_prob)  # Note: use y_pred_prob for AUC as it requires probabilities\n",
    "\n",
    "# Print metrics\n",
    "print(f'Accuracy: {accuracy:.4f}')\n",
    "print(f'Precision: {precision:.4f}')\n",
    "print(f'Recall: {recall:.4f}')\n",
    "print(f'F1-Score: {f1:.4f}')\n",
    "print(f'Matthews Correlation Coefficient: {mcc:.4f}')\n",
    "print(f'AUC: {auc:.4f}')\n"
   ]
  },
  {
   "cell_type": "code",
   "execution_count": null,
   "id": "9f8505d8-4fcd-4581-a398-1732522f7a12",
   "metadata": {},
   "outputs": [],
   "source": []
  }
 ],
 "metadata": {
  "kernelspec": {
   "display_name": "Python 3 (ipykernel)",
   "language": "python",
   "name": "python3"
  },
  "language_info": {
   "codemirror_mode": {
    "name": "ipython",
    "version": 3
   },
   "file_extension": ".py",
   "mimetype": "text/x-python",
   "name": "python",
   "nbconvert_exporter": "python",
   "pygments_lexer": "ipython3",
   "version": "3.10.12"
  }
 },
 "nbformat": 4,
 "nbformat_minor": 5
}
