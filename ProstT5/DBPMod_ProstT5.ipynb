{
 "cells": [
  {
   "cell_type": "code",
   "execution_count": 2,
   "id": "e25aae9b-36d0-42c5-966b-440c9c7e45a2",
   "metadata": {
    "tags": []
   },
   "outputs": [],
   "source": [
    "from Bio import SeqIO, motifs\n",
    "from Bio.Seq import Seq\n",
    "import pandas as pd\n",
    "import numpy as np\n",
    "import csv\n",
    "from Bio.SeqRecord import SeqRecord\n",
    "import torch\n",
    "import json\n",
    "from transformers import AutoTokenizer, AutoModel\n",
    "from sklearn.preprocessing import StandardScaler\n",
    "import itertools\n",
    "from collections import Counter"
   ]
  },
  {
   "cell_type": "code",
   "execution_count": 3,
   "id": "3787ce54-56c8-424f-874e-117e39f9ef61",
   "metadata": {
    "tags": []
   },
   "outputs": [
    {
     "name": "stderr",
     "output_type": "stream",
     "text": [
      "2024-04-21 20:50:41.426569: I tensorflow/core/util/port.cc:113] oneDNN custom operations are on. You may see slightly different numerical results due to floating-point round-off errors from different computation orders. To turn them off, set the environment variable `TF_ENABLE_ONEDNN_OPTS=0`.\n",
      "2024-04-21 20:50:41.454254: I external/local_tsl/tsl/cuda/cudart_stub.cc:31] Could not find cuda drivers on your machine, GPU will not be used.\n",
      "2024-04-21 20:50:41.588127: E external/local_xla/xla/stream_executor/cuda/cuda_dnn.cc:9261] Unable to register cuDNN factory: Attempting to register factory for plugin cuDNN when one has already been registered\n",
      "2024-04-21 20:50:41.588181: E external/local_xla/xla/stream_executor/cuda/cuda_fft.cc:607] Unable to register cuFFT factory: Attempting to register factory for plugin cuFFT when one has already been registered\n",
      "2024-04-21 20:50:41.611241: E external/local_xla/xla/stream_executor/cuda/cuda_blas.cc:1515] Unable to register cuBLAS factory: Attempting to register factory for plugin cuBLAS when one has already been registered\n",
      "2024-04-21 20:50:41.664216: I external/local_tsl/tsl/cuda/cudart_stub.cc:31] Could not find cuda drivers on your machine, GPU will not be used.\n",
      "2024-04-21 20:50:41.665478: I tensorflow/core/platform/cpu_feature_guard.cc:182] This TensorFlow binary is optimized to use available CPU instructions in performance-critical operations.\n",
      "To enable the following instructions: AVX2 AVX512F AVX512_VNNI FMA, in other operations, rebuild TensorFlow with the appropriate compiler flags.\n",
      "2024-04-21 20:50:42.587764: W tensorflow/compiler/tf2tensorrt/utils/py_utils.cc:38] TF-TRT Warning: Could not find TensorRT\n"
     ]
    },
    {
     "name": "stdout",
     "output_type": "stream",
     "text": [
      "cpu\n"
     ]
    }
   ],
   "source": [
    "from transformers import T5Tokenizer, T5EncoderModel, T5ForConditionalGeneration\n",
    "import torch\n",
    "device = torch.device('cuda:0' if torch.cuda.is_available() else 'cpu')\n",
    "print(device)"
   ]
  },
  {
   "cell_type": "code",
   "execution_count": null,
   "id": "d8b8ee5b-940a-414c-b432-7a89bba8007c",
   "metadata": {
    "tags": []
   },
   "outputs": [
    {
     "name": "stderr",
     "output_type": "stream",
     "text": [
      "Special tokens have been added in the vocabulary, make sure the associated word embeddings are fine-tuned or trained.\n"
     ]
    }
   ],
   "source": [
    "tokenizer = T5Tokenizer.from_pretrained('Rostlab/ProstT5', do_lower_case=False)\n",
    "model = T5EncoderModel.from_pretrained(\"Rostlab/ProstT5\").to(device)"
   ]
  },
  {
   "cell_type": "code",
   "execution_count": 2,
   "id": "f60d9347-09fb-4b08-8245-2eb55f723c61",
   "metadata": {},
   "outputs": [
    {
     "name": "stderr",
     "output_type": "stream",
     "text": [
      "2024-04-21 20:25:48.263252: I tensorflow/core/util/port.cc:113] oneDNN custom operations are on. You may see slightly different numerical results due to floating-point round-off errors from different computation orders. To turn them off, set the environment variable `TF_ENABLE_ONEDNN_OPTS=0`.\n",
      "2024-04-21 20:25:48.265227: I external/local_tsl/tsl/cuda/cudart_stub.cc:31] Could not find cuda drivers on your machine, GPU will not be used.\n",
      "2024-04-21 20:25:48.292804: E external/local_xla/xla/stream_executor/cuda/cuda_dnn.cc:9261] Unable to register cuDNN factory: Attempting to register factory for plugin cuDNN when one has already been registered\n",
      "2024-04-21 20:25:48.292825: E external/local_xla/xla/stream_executor/cuda/cuda_fft.cc:607] Unable to register cuFFT factory: Attempting to register factory for plugin cuFFT when one has already been registered\n",
      "2024-04-21 20:25:48.293595: E external/local_xla/xla/stream_executor/cuda/cuda_blas.cc:1515] Unable to register cuBLAS factory: Attempting to register factory for plugin cuBLAS when one has already been registered\n",
      "2024-04-21 20:25:48.297944: I external/local_tsl/tsl/cuda/cudart_stub.cc:31] Could not find cuda drivers on your machine, GPU will not be used.\n",
      "2024-04-21 20:25:48.298473: I tensorflow/core/platform/cpu_feature_guard.cc:182] This TensorFlow binary is optimized to use available CPU instructions in performance-critical operations.\n",
      "To enable the following instructions: AVX2 AVX512F AVX512_VNNI FMA, in other operations, rebuild TensorFlow with the appropriate compiler flags.\n",
      "2024-04-21 20:25:49.157957: W tensorflow/compiler/tf2tensorrt/utils/py_utils.cc:38] TF-TRT Warning: Could not find TensorRT\n"
     ]
    },
    {
     "data": {
      "application/vnd.jupyter.widget-view+json": {
       "model_id": "737b33c3aca743628a2175bcf41011fe",
       "version_major": 2,
       "version_minor": 0
      },
      "text/plain": [
       "Downloading tokenizer_config.json:   0%|          | 0.00/2.60k [00:00<?, ?B/s]"
      ]
     },
     "metadata": {},
     "output_type": "display_data"
    },
    {
     "data": {
      "application/vnd.jupyter.widget-view+json": {
       "model_id": "de9cf605455844969c4eed53c48f3e1d",
       "version_major": 2,
       "version_minor": 0
      },
      "text/plain": [
       "Downloading spiece.model:   0%|          | 0.00/238k [00:00<?, ?B/s]"
      ]
     },
     "metadata": {},
     "output_type": "display_data"
    },
    {
     "data": {
      "application/vnd.jupyter.widget-view+json": {
       "model_id": "a94f27551f314e8cb92dba32d72484af",
       "version_major": 2,
       "version_minor": 0
      },
      "text/plain": [
       "Downloading added_tokens.json:   0%|          | 0.00/283 [00:00<?, ?B/s]"
      ]
     },
     "metadata": {},
     "output_type": "display_data"
    },
    {
     "data": {
      "application/vnd.jupyter.widget-view+json": {
       "model_id": "5365947f9f4449f3bf83e39e6b172ee1",
       "version_major": 2,
       "version_minor": 0
      },
      "text/plain": [
       "Downloading (…)cial_tokens_map.json:   0%|          | 0.00/2.20k [00:00<?, ?B/s]"
      ]
     },
     "metadata": {},
     "output_type": "display_data"
    },
    {
     "name": "stderr",
     "output_type": "stream",
     "text": [
      "You are using the default legacy behaviour of the <class 'transformers.models.t5.tokenization_t5.T5Tokenizer'>. This is expected, and simply means that the `legacy` (previous) behavior will be used so nothing changes for you. If you want to use the new behaviour, set `legacy=False`. This should only be set if you understand what it means, and thouroughly read the reason why this was added as explained in https://github.com/huggingface/transformers/pull/24565\n",
      "Special tokens have been added in the vocabulary, make sure the associated word embeddings are fine-tuned or trained.\n"
     ]
    },
    {
     "ename": "AttributeError",
     "evalue": "'T5Tokenizer' object has no attribute 'to'",
     "output_type": "error",
     "traceback": [
      "\u001b[0;31m---------------------------------------------------------------------------\u001b[0m",
      "\u001b[0;31mAttributeError\u001b[0m                            Traceback (most recent call last)",
      "Cell \u001b[0;32mIn[2], line 6\u001b[0m\n\u001b[1;32m      3\u001b[0m device \u001b[38;5;241m=\u001b[39m torch\u001b[38;5;241m.\u001b[39mdevice(\u001b[38;5;124m'\u001b[39m\u001b[38;5;124mcuda:0\u001b[39m\u001b[38;5;124m'\u001b[39m \u001b[38;5;28;01mif\u001b[39;00m torch\u001b[38;5;241m.\u001b[39mcuda\u001b[38;5;241m.\u001b[39mis_available() \u001b[38;5;28;01melse\u001b[39;00m \u001b[38;5;124m'\u001b[39m\u001b[38;5;124mcpu\u001b[39m\u001b[38;5;124m'\u001b[39m)\n\u001b[1;32m      5\u001b[0m \u001b[38;5;66;03m# Load the tokenizer\u001b[39;00m\n\u001b[0;32m----> 6\u001b[0m tokenizer \u001b[38;5;241m=\u001b[39m \u001b[43mT5Tokenizer\u001b[49m\u001b[38;5;241;43m.\u001b[39;49m\u001b[43mfrom_pretrained\u001b[49m\u001b[43m(\u001b[49m\u001b[38;5;124;43m'\u001b[39;49m\u001b[38;5;124;43mRostlab/ProstT5\u001b[39;49m\u001b[38;5;124;43m'\u001b[39;49m\u001b[43m,\u001b[49m\u001b[43m \u001b[49m\u001b[43mdo_lower_case\u001b[49m\u001b[38;5;241;43m=\u001b[39;49m\u001b[38;5;28;43;01mFalse\u001b[39;49;00m\u001b[43m)\u001b[49m\u001b[38;5;241;43m.\u001b[39;49m\u001b[43mto\u001b[49m(device)\n\u001b[1;32m      8\u001b[0m \u001b[38;5;66;03m# Load the model\u001b[39;00m\n\u001b[1;32m      9\u001b[0m model \u001b[38;5;241m=\u001b[39m T5EncoderModel\u001b[38;5;241m.\u001b[39mfrom_pretrained(\u001b[38;5;124m\"\u001b[39m\u001b[38;5;124mRostlab/ProstT5\u001b[39m\u001b[38;5;124m\"\u001b[39m)\u001b[38;5;241m.\u001b[39mto(device)\n",
      "\u001b[0;31mAttributeError\u001b[0m: 'T5Tokenizer' object has no attribute 'to'"
     ]
    }
   ],
   "source": [
    "\n",
    "\n",
    "# Load the tokenizer\n",
    "tokenizer = T5Tokenizer.from_pretrained('Rostlab/ProstT5', do_lower_case=False).to(device)\n",
    "\n",
    "# Load the model\n",
    "model = T5EncoderModel.from_pretrained(\"Rostlab/ProstT5\").to(device)\n",
    "\n",
    "# only GPUs support half-precision currently; if you want to run on CPU use full-precision (not recommended, much slower)\n",
    "model.full() if device=='cpu' else model.half()\n",
    "\n",
    "# prepare your protein sequences/structures as a list.\n",
    "# Amino acid sequences are expected to be upper-case (\"PRTEINO\" below)\n",
    "# while 3Di-sequences need to be lower-case (\"strctr\" below).\n",
    "sequence_examples = [\"PRTEINO\", \"strct\"]\n",
    "\n",
    "# replace all rare/ambiguous amino acids by X (3Di sequences do not have those) and introduce white-space between all sequences (AAs and 3Di)\n",
    "sequence_examples = [\" \".join(list(re.sub(r\"[UZOB]\", \"X\", sequence))) for sequence in sequence_examples]\n",
    "\n",
    "# The direction of the translation is indicated by two special tokens:\n",
    "# if you go from AAs to 3Di (or if you want to embed AAs), you need to prepend \"<AA2fold>\"\n",
    "# if you go from 3Di to AAs (or if you want to embed 3Di), you need to prepend \"<fold2AA>\"\n",
    "sequence_examples = [ \"<AA2fold>\" + \" \" + s if s.isupper() else \"<fold2AA>\" + \" \" + s # this expects 3Di sequences to be already lower-case\n",
    "                      for s in sequence_examples\n",
    "                    ]\n",
    "\n",
    "# tokenize sequences and pad up to the longest sequence in the batch\n",
    "ids = tokenizer.batch_encode_plus(sequences_example,\n",
    "                                  add_special_tokens=True,\n",
    "                                  padding=\"longest\",\n",
    "                                  return_tensors='pt').to(device)\n",
    "\n",
    "# generate embeddings\n",
    "with torch.no_grad():\n",
    "    embedding_rpr = model(\n",
    "              ids.input_ids, \n",
    "              attention_mask=ids.attention_mask\n",
    "              )\n",
    "\n",
    "# extract residue embeddings for the first ([0,:]) sequence in the batch and remove padded & special tokens, incl. prefix ([0,1:8]) \n",
    "emb_0 = embedding_repr.last_hidden_state[0,1:8] # shape (7 x 1024)\n",
    "# same for the second ([1,:]) sequence but taking into account different sequence lengths ([1,:6])\n",
    "emb_1 = embedding_repr.last_hidden_state[1,1:6] # shape (5 x 1024)\n",
    "\n",
    "# if you want to derive a single representation (per-protein embedding) for the whole protein\n",
    "emb_0_per_protein = emb_0.mean(dim=0) # shape (1024)"
   ]
  },
  {
   "cell_type": "code",
   "execution_count": 18,
   "id": "8ea1662b-fca5-4ac0-abff-b9a2345f2f19",
   "metadata": {
    "tags": []
   },
   "outputs": [
    {
     "data": {
      "text/html": [
       "<div>\n",
       "<style scoped>\n",
       "    .dataframe tbody tr th:only-of-type {\n",
       "        vertical-align: middle;\n",
       "    }\n",
       "\n",
       "    .dataframe tbody tr th {\n",
       "        vertical-align: top;\n",
       "    }\n",
       "\n",
       "    .dataframe thead th {\n",
       "        text-align: right;\n",
       "    }\n",
       "</style>\n",
       "<table border=\"1\" class=\"dataframe\">\n",
       "  <thead>\n",
       "    <tr style=\"text-align: right;\">\n",
       "      <th></th>\n",
       "      <th>Sequence</th>\n",
       "      <th>Label</th>\n",
       "      <th>Protein</th>\n",
       "    </tr>\n",
       "  </thead>\n",
       "  <tbody>\n",
       "    <tr>\n",
       "      <th>0</th>\n",
       "      <td>MENEKENLFCEPHKRGLMKTPLKESTTANIVLAEIQPDFGPLTTPT...</td>\n",
       "      <td>1</td>\n",
       "      <td>seq1|1|training</td>\n",
       "    </tr>\n",
       "    <tr>\n",
       "      <th>1</th>\n",
       "      <td>MDSSCHNATTKMLATAPARGNMMSTSKPLAFSIERIMARTPEPKAL...</td>\n",
       "      <td>1</td>\n",
       "      <td>seq2|1|training</td>\n",
       "    </tr>\n",
       "    <tr>\n",
       "      <th>2</th>\n",
       "      <td>MKRRQKRKHLENEESQETAEKGGGMSKSQEDALQPGSTRVAKGWSQ...</td>\n",
       "      <td>1</td>\n",
       "      <td>seq3|1|training</td>\n",
       "    </tr>\n",
       "    <tr>\n",
       "      <th>3</th>\n",
       "      <td>MARVGPGRAGVSCQGRGRGRGGSGQRRPPTWEISDSDAEDSAGSEA...</td>\n",
       "      <td>1</td>\n",
       "      <td>seq4|1|training</td>\n",
       "    </tr>\n",
       "    <tr>\n",
       "      <th>4</th>\n",
       "      <td>MAAADGGGPGGASVGTEEDGGGVGHRTVYLFDRREKESELGDRPLQ...</td>\n",
       "      <td>1</td>\n",
       "      <td>seq5|1|training</td>\n",
       "    </tr>\n",
       "    <tr>\n",
       "      <th>...</th>\n",
       "      <td>...</td>\n",
       "      <td>...</td>\n",
       "      <td>...</td>\n",
       "    </tr>\n",
       "    <tr>\n",
       "      <th>2513</th>\n",
       "      <td>MEQGKGLAVLILAIILLQGTLAQSIKGNHLVKVYDYQEDGSVLLTC...</td>\n",
       "      <td>0</td>\n",
       "      <td>seq2516|0|training</td>\n",
       "    </tr>\n",
       "    <tr>\n",
       "      <th>2514</th>\n",
       "      <td>MARGPGLAPPPLRLPLLLLVLAAVTGHTAAQDNCTCPTNKMTVCSP...</td>\n",
       "      <td>0</td>\n",
       "      <td>seq2517|0|training</td>\n",
       "    </tr>\n",
       "    <tr>\n",
       "      <th>2515</th>\n",
       "      <td>MELSWHVVFIALLSFSCWGSDWESDRNFISTAGPLTNDLLHNLSGL...</td>\n",
       "      <td>0</td>\n",
       "      <td>seq2518|0|training</td>\n",
       "    </tr>\n",
       "    <tr>\n",
       "      <th>2516</th>\n",
       "      <td>MWCIVLFSLLAWVYAEPTMYGEILSPNYPQAYPSEVEKSWDIEVPE...</td>\n",
       "      <td>0</td>\n",
       "      <td>seq2519|0|training</td>\n",
       "    </tr>\n",
       "    <tr>\n",
       "      <th>2517</th>\n",
       "      <td>MRQKAVSLFLCYLLLFTCSGVEAGKKKCSESSDSGSGFWKALTFMA...</td>\n",
       "      <td>0</td>\n",
       "      <td>seq2520|0|training</td>\n",
       "    </tr>\n",
       "  </tbody>\n",
       "</table>\n",
       "<p>2518 rows × 3 columns</p>\n",
       "</div>"
      ],
      "text/plain": [
       "                                               Sequence  Label  \\\n",
       "0     MENEKENLFCEPHKRGLMKTPLKESTTANIVLAEIQPDFGPLTTPT...      1   \n",
       "1     MDSSCHNATTKMLATAPARGNMMSTSKPLAFSIERIMARTPEPKAL...      1   \n",
       "2     MKRRQKRKHLENEESQETAEKGGGMSKSQEDALQPGSTRVAKGWSQ...      1   \n",
       "3     MARVGPGRAGVSCQGRGRGRGGSGQRRPPTWEISDSDAEDSAGSEA...      1   \n",
       "4     MAAADGGGPGGASVGTEEDGGGVGHRTVYLFDRREKESELGDRPLQ...      1   \n",
       "...                                                 ...    ...   \n",
       "2513  MEQGKGLAVLILAIILLQGTLAQSIKGNHLVKVYDYQEDGSVLLTC...      0   \n",
       "2514  MARGPGLAPPPLRLPLLLLVLAAVTGHTAAQDNCTCPTNKMTVCSP...      0   \n",
       "2515  MELSWHVVFIALLSFSCWGSDWESDRNFISTAGPLTNDLLHNLSGL...      0   \n",
       "2516  MWCIVLFSLLAWVYAEPTMYGEILSPNYPQAYPSEVEKSWDIEVPE...      0   \n",
       "2517  MRQKAVSLFLCYLLLFTCSGVEAGKKKCSESSDSGSGFWKALTFMA...      0   \n",
       "\n",
       "                 Protein  \n",
       "0        seq1|1|training  \n",
       "1        seq2|1|training  \n",
       "2        seq3|1|training  \n",
       "3        seq4|1|training  \n",
       "4        seq5|1|training  \n",
       "...                  ...  \n",
       "2513  seq2516|0|training  \n",
       "2514  seq2517|0|training  \n",
       "2515  seq2518|0|training  \n",
       "2516  seq2519|0|training  \n",
       "2517  seq2520|0|training  \n",
       "\n",
       "[2518 rows x 3 columns]"
      ]
     },
     "execution_count": 18,
     "metadata": {},
     "output_type": "execute_result"
    }
   ],
   "source": [
    "training = pd.read_csv('training_deepfri.csv',index_col=0)\n",
    "training"
   ]
  },
  {
   "cell_type": "code",
   "execution_count": 19,
   "id": "0575662e-6af8-470b-aa7c-9d4f8c8075e2",
   "metadata": {
    "tags": []
   },
   "outputs": [
    {
     "data": {
      "text/html": [
       "<div>\n",
       "<style scoped>\n",
       "    .dataframe tbody tr th:only-of-type {\n",
       "        vertical-align: middle;\n",
       "    }\n",
       "\n",
       "    .dataframe tbody tr th {\n",
       "        vertical-align: top;\n",
       "    }\n",
       "\n",
       "    .dataframe thead th {\n",
       "        text-align: right;\n",
       "    }\n",
       "</style>\n",
       "<table border=\"1\" class=\"dataframe\">\n",
       "  <thead>\n",
       "    <tr style=\"text-align: right;\">\n",
       "      <th></th>\n",
       "      <th>Sequence</th>\n",
       "      <th>Label</th>\n",
       "      <th>Protein</th>\n",
       "    </tr>\n",
       "  </thead>\n",
       "  <tbody>\n",
       "    <tr>\n",
       "      <th>0</th>\n",
       "      <td>MAELKSLSGDAYLALSHGYAAAAAGLAYGAAREPEAARGYGTPGPG...</td>\n",
       "      <td>1</td>\n",
       "      <td>sp|Q8NDY6|BHE23_HUMAN</td>\n",
       "    </tr>\n",
       "    <tr>\n",
       "      <th>1</th>\n",
       "      <td>MPDPAKSAPAPKKGSKKAVTKAQKKDGKKRKRSRKESYSIYVYKVL...</td>\n",
       "      <td>1</td>\n",
       "      <td>sp|P23527|H2B1O_HUMAN</td>\n",
       "    </tr>\n",
       "    <tr>\n",
       "      <th>2</th>\n",
       "      <td>MYQSLALAASPRQAAYADSGSFLHAPGAGSPMFVPPARVPSMLSYL...</td>\n",
       "      <td>1</td>\n",
       "      <td>sp|Q9BWX5|GATA5_HUMAN</td>\n",
       "    </tr>\n",
       "    <tr>\n",
       "      <th>3</th>\n",
       "      <td>MNMEGLVMFQDLSIDFSQEEWECLDAAQKDLYRDVMMENYSSLVSL...</td>\n",
       "      <td>1</td>\n",
       "      <td>sp|A8MQ14|ZN850_HUMAN</td>\n",
       "    </tr>\n",
       "    <tr>\n",
       "      <th>4</th>\n",
       "      <td>MTRSCSAVGCSTRDTVLSRERGLSFHQFPTDTIQRSKWIRAVNRVD...</td>\n",
       "      <td>1</td>\n",
       "      <td>sp|Q9H5L6|THAP9_HUMAN</td>\n",
       "    </tr>\n",
       "    <tr>\n",
       "      <th>...</th>\n",
       "      <td>...</td>\n",
       "      <td>...</td>\n",
       "      <td>...</td>\n",
       "    </tr>\n",
       "    <tr>\n",
       "      <th>625</th>\n",
       "      <td>MPLAQLADPWQKMAVESPSDSAENGQQIMDEPMGEEEINPQTEEVS...</td>\n",
       "      <td>0</td>\n",
       "      <td>sp|P51812|KS6A3_HUMAN</td>\n",
       "    </tr>\n",
       "    <tr>\n",
       "      <th>626</th>\n",
       "      <td>MAILMLSLQLILLLIPSISHEAHKTSLSSWKHDQDWANVSNMTFSN...</td>\n",
       "      <td>0</td>\n",
       "      <td>sp|Q6UY13|YB003_HUMAN</td>\n",
       "    </tr>\n",
       "    <tr>\n",
       "      <th>627</th>\n",
       "      <td>MAQASPPRPERVLGASSPEARPAQEALLLPTGVFQVAEKMEKRTCA...</td>\n",
       "      <td>0</td>\n",
       "      <td>sp|Q9UIL8|PHF11_HUMAN</td>\n",
       "    </tr>\n",
       "    <tr>\n",
       "      <th>628</th>\n",
       "      <td>MGKSEGPVGMVESAGRAGQKRPGFLEGGLLLLLLLVTAALVALGVL...</td>\n",
       "      <td>0</td>\n",
       "      <td>sp|Q495T6|MMEL1_HUMAN</td>\n",
       "    </tr>\n",
       "    <tr>\n",
       "      <th>629</th>\n",
       "      <td>MRGGGGCVLALGGQRGFQKERRRMASGNGLPSSSALVAKGPCALGP...</td>\n",
       "      <td>0</td>\n",
       "      <td>sp|Q6P1W5|CA094_HUMAN</td>\n",
       "    </tr>\n",
       "  </tbody>\n",
       "</table>\n",
       "<p>630 rows × 3 columns</p>\n",
       "</div>"
      ],
      "text/plain": [
       "                                              Sequence  Label  \\\n",
       "0    MAELKSLSGDAYLALSHGYAAAAAGLAYGAAREPEAARGYGTPGPG...      1   \n",
       "1    MPDPAKSAPAPKKGSKKAVTKAQKKDGKKRKRSRKESYSIYVYKVL...      1   \n",
       "2    MYQSLALAASPRQAAYADSGSFLHAPGAGSPMFVPPARVPSMLSYL...      1   \n",
       "3    MNMEGLVMFQDLSIDFSQEEWECLDAAQKDLYRDVMMENYSSLVSL...      1   \n",
       "4    MTRSCSAVGCSTRDTVLSRERGLSFHQFPTDTIQRSKWIRAVNRVD...      1   \n",
       "..                                                 ...    ...   \n",
       "625  MPLAQLADPWQKMAVESPSDSAENGQQIMDEPMGEEEINPQTEEVS...      0   \n",
       "626  MAILMLSLQLILLLIPSISHEAHKTSLSSWKHDQDWANVSNMTFSN...      0   \n",
       "627  MAQASPPRPERVLGASSPEARPAQEALLLPTGVFQVAEKMEKRTCA...      0   \n",
       "628  MGKSEGPVGMVESAGRAGQKRPGFLEGGLLLLLLLVTAALVALGVL...      0   \n",
       "629  MRGGGGCVLALGGQRGFQKERRRMASGNGLPSSSALVAKGPCALGP...      0   \n",
       "\n",
       "                   Protein  \n",
       "0    sp|Q8NDY6|BHE23_HUMAN  \n",
       "1    sp|P23527|H2B1O_HUMAN  \n",
       "2    sp|Q9BWX5|GATA5_HUMAN  \n",
       "3    sp|A8MQ14|ZN850_HUMAN  \n",
       "4    sp|Q9H5L6|THAP9_HUMAN  \n",
       "..                     ...  \n",
       "625  sp|P51812|KS6A3_HUMAN  \n",
       "626  sp|Q6UY13|YB003_HUMAN  \n",
       "627  sp|Q9UIL8|PHF11_HUMAN  \n",
       "628  sp|Q495T6|MMEL1_HUMAN  \n",
       "629  sp|Q6P1W5|CA094_HUMAN  \n",
       "\n",
       "[630 rows x 3 columns]"
      ]
     },
     "execution_count": 19,
     "metadata": {},
     "output_type": "execute_result"
    }
   ],
   "source": [
    "testing = pd.read_csv('testing_deepfri.csv',index_col=0)\n",
    "testing"
   ]
  }
 ],
 "metadata": {
  "kernelspec": {
   "display_name": "Python 3 (ipykernel)",
   "language": "python",
   "name": "python3"
  },
  "language_info": {
   "codemirror_mode": {
    "name": "ipython",
    "version": 3
   },
   "file_extension": ".py",
   "mimetype": "text/x-python",
   "name": "python",
   "nbconvert_exporter": "python",
   "pygments_lexer": "ipython3",
   "version": "3.10.12"
  }
 },
 "nbformat": 4,
 "nbformat_minor": 5
}
